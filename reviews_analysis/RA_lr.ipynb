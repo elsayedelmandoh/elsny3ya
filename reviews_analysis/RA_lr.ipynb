{
  "cells": [
    {
      "cell_type": "markdown",
      "metadata": {
        "id": "3hPEuCupGlTK"
      },
      "source": [
        "# Reviews Analysis"
      ]
    },
    {
      "cell_type": "markdown",
      "metadata": {
        "id": "kRfCt2Y309Cp"
      },
      "source": [
        "change runtime to GPU"
      ]
    },
    {
      "cell_type": "code",
      "execution_count": 1,
      "metadata": {
        "colab": {
          "base_uri": "https://localhost:8080/"
        },
        "id": "Up5O4bEkx1xC",
        "outputId": "9515d22c-5110-41de-95f6-0c96b8ae075f"
      },
      "outputs": [],
      "source": [
        "# !nvidia-smi"
      ]
    },
    {
      "cell_type": "markdown",
      "metadata": {
        "id": "_dPz-zGGG2Lm"
      },
      "source": [
        "# 1. Problem Identification & Goal Formulation"
      ]
    },
    {
      "cell_type": "markdown",
      "metadata": {
        "id": "peyKesXcHQmU"
      },
      "source": [
        "+ Problem:\n",
        "  - In today's market, numerous services and products fall short of meeting user expectations, necessitating a system that can effectively recommend the highest quality options based on insights from user reviews.\n",
        "\n",
        "+ Goal:\n",
        "  - The primary objective is to develop a machine learning model that can accurately classify user reviews into two distinct categories: `Positive` and `Negative`. Furthermore, the model should identify and prioritize the `most highly recommended` services and products within the `\"Positive\" category`, while discouraging the usage of those falling under the `\"Negative\" category`. This will help users make informed decisions and enhance their overall experience."
      ]
    },
    {
      "cell_type": "markdown",
      "metadata": {
        "id": "gc9Fcm-pLHZl"
      },
      "source": [
        "# 2. Data Collection"
      ]
    },
    {
      "cell_type": "code",
      "execution_count": 2,
      "metadata": {
        "id": "PtuuFieN_MyO"
      },
      "outputs": [],
      "source": [
        "import os\n",
        "import pandas as pd"
      ]
    },
    {
      "cell_type": "code",
      "execution_count": 3,
      "metadata": {
        "colab": {
          "base_uri": "https://localhost:8080/"
        },
        "id": "wZvQthO9-M95",
        "outputId": "80d2d0c4-1d63-43e0-cef2-e4cabad11080"
      },
      "outputs": [],
      "source": [
        "# from google.colab import drive\n",
        "# drive.mount(\"/content/drive/\")"
      ]
    },
    {
      "cell_type": "code",
      "execution_count": 4,
      "metadata": {
        "id": "tbN9p4Ic_FuO"
      },
      "outputs": [
        {
          "data": {
            "text/plain": [
              "'d:\\\\Projects\\\\RA'"
            ]
          },
          "execution_count": 4,
          "metadata": {},
          "output_type": "execute_result"
        }
      ],
      "source": [
        "home= os.getcwd()\n",
        "home"
      ]
    },
    {
      "cell_type": "markdown",
      "metadata": {
        "id": "venMcEPDbIF7"
      },
      "source": [
        "load train data"
      ]
    },
    {
      "cell_type": "code",
      "execution_count": 5,
      "metadata": {
        "id": "1zq2CJjz_D3n"
      },
      "outputs": [],
      "source": [
        "train_data= pd.read_csv(f\"{home}/data/train_data/train.csv\", names= ['result', 'title', 'reviews']).sample(10000)"
      ]
    },
    {
      "cell_type": "code",
      "execution_count": 6,
      "metadata": {},
      "outputs": [],
      "source": [
        "train_data.reset_index(drop=True, inplace=True)"
      ]
    },
    {
      "cell_type": "code",
      "execution_count": 7,
      "metadata": {
        "colab": {
          "base_uri": "https://localhost:8080/",
          "height": 206
        },
        "id": "FM3PxnHLNH8E",
        "outputId": "a5f3c7f9-ff69-4b56-bbee-bcc3973741bd"
      },
      "outputs": [
        {
          "data": {
            "text/html": [
              "<div>\n",
              "<style scoped>\n",
              "    .dataframe tbody tr th:only-of-type {\n",
              "        vertical-align: middle;\n",
              "    }\n",
              "\n",
              "    .dataframe tbody tr th {\n",
              "        vertical-align: top;\n",
              "    }\n",
              "\n",
              "    .dataframe thead th {\n",
              "        text-align: right;\n",
              "    }\n",
              "</style>\n",
              "<table border=\"1\" class=\"dataframe\">\n",
              "  <thead>\n",
              "    <tr style=\"text-align: right;\">\n",
              "      <th></th>\n",
              "      <th>result</th>\n",
              "      <th>title</th>\n",
              "      <th>reviews</th>\n",
              "    </tr>\n",
              "  </thead>\n",
              "  <tbody>\n",
              "    <tr>\n",
              "      <th>0</th>\n",
              "      <td>2</td>\n",
              "      <td>An Excellent Tune &amp; Near-Perfect Mix</td>\n",
              "      <td>Fans of Sonique's \"It Feels So Good\" popular t...</td>\n",
              "    </tr>\n",
              "    <tr>\n",
              "      <th>1</th>\n",
              "      <td>2</td>\n",
              "      <td>Simply Beautiful</td>\n",
              "      <td>This necklace is extraordinarily well made, a ...</td>\n",
              "    </tr>\n",
              "    <tr>\n",
              "      <th>2</th>\n",
              "      <td>2</td>\n",
              "      <td>InSinkErator Evolution Pro Compact Garbage Dis...</td>\n",
              "      <td>This garbage disposer was recommended by my co...</td>\n",
              "    </tr>\n",
              "    <tr>\n",
              "      <th>3</th>\n",
              "      <td>1</td>\n",
              "      <td>One year limited use vacuum</td>\n",
              "      <td>This was a good vacuum for the 12 or so times ...</td>\n",
              "    </tr>\n",
              "    <tr>\n",
              "      <th>4</th>\n",
              "      <td>1</td>\n",
              "      <td>It rusted withing a few weeks...</td>\n",
              "      <td>At first the shaving kit looked good. There ha...</td>\n",
              "    </tr>\n",
              "  </tbody>\n",
              "</table>\n",
              "</div>"
            ],
            "text/plain": [
              "   result                                              title  \\\n",
              "0       2               An Excellent Tune & Near-Perfect Mix   \n",
              "1       2                                   Simply Beautiful   \n",
              "2       2  InSinkErator Evolution Pro Compact Garbage Dis...   \n",
              "3       1                        One year limited use vacuum   \n",
              "4       1                   It rusted withing a few weeks...   \n",
              "\n",
              "                                             reviews  \n",
              "0  Fans of Sonique's \"It Feels So Good\" popular t...  \n",
              "1  This necklace is extraordinarily well made, a ...  \n",
              "2  This garbage disposer was recommended by my co...  \n",
              "3  This was a good vacuum for the 12 or so times ...  \n",
              "4  At first the shaving kit looked good. There ha...  "
            ]
          },
          "execution_count": 7,
          "metadata": {},
          "output_type": "execute_result"
        }
      ],
      "source": [
        "train_data.head()"
      ]
    },
    {
      "cell_type": "code",
      "execution_count": 8,
      "metadata": {
        "colab": {
          "base_uri": "https://localhost:8080/",
          "height": 206
        },
        "id": "AzCZszMRNNlP",
        "outputId": "7f93dd8a-0534-4f94-ba9b-80fe9288f2a0"
      },
      "outputs": [
        {
          "data": {
            "text/html": [
              "<div>\n",
              "<style scoped>\n",
              "    .dataframe tbody tr th:only-of-type {\n",
              "        vertical-align: middle;\n",
              "    }\n",
              "\n",
              "    .dataframe tbody tr th {\n",
              "        vertical-align: top;\n",
              "    }\n",
              "\n",
              "    .dataframe thead th {\n",
              "        text-align: right;\n",
              "    }\n",
              "</style>\n",
              "<table border=\"1\" class=\"dataframe\">\n",
              "  <thead>\n",
              "    <tr style=\"text-align: right;\">\n",
              "      <th></th>\n",
              "      <th>result</th>\n",
              "      <th>title</th>\n",
              "      <th>reviews</th>\n",
              "    </tr>\n",
              "  </thead>\n",
              "  <tbody>\n",
              "    <tr>\n",
              "      <th>9995</th>\n",
              "      <td>2</td>\n",
              "      <td>It's a decent anime</td>\n",
              "      <td>I'm a huge fan of the art style used in this f...</td>\n",
              "    </tr>\n",
              "    <tr>\n",
              "      <th>9996</th>\n",
              "      <td>2</td>\n",
              "      <td>Gene Harris A buried treasure</td>\n",
              "      <td>My name is Gwendolyn Burnett, I heard Gene Har...</td>\n",
              "    </tr>\n",
              "    <tr>\n",
              "      <th>9997</th>\n",
              "      <td>2</td>\n",
              "      <td>Glad I looked on-line before buying</td>\n",
              "      <td>I almost bought a grill cover when I picked up...</td>\n",
              "    </tr>\n",
              "    <tr>\n",
              "      <th>9998</th>\n",
              "      <td>2</td>\n",
              "      <td>I LOVE THIS ALBUM</td>\n",
              "      <td>I'm a big fan of MT, and to be honest with you...</td>\n",
              "    </tr>\n",
              "    <tr>\n",
              "      <th>9999</th>\n",
              "      <td>1</td>\n",
              "      <td>Will no longer read Blackstock's books.</td>\n",
              "      <td>I've read three of Terri Blackstocks books and...</td>\n",
              "    </tr>\n",
              "  </tbody>\n",
              "</table>\n",
              "</div>"
            ],
            "text/plain": [
              "      result                                    title  \\\n",
              "9995       2                      It's a decent anime   \n",
              "9996       2            Gene Harris A buried treasure   \n",
              "9997       2      Glad I looked on-line before buying   \n",
              "9998       2                        I LOVE THIS ALBUM   \n",
              "9999       1  Will no longer read Blackstock's books.   \n",
              "\n",
              "                                                reviews  \n",
              "9995  I'm a huge fan of the art style used in this f...  \n",
              "9996  My name is Gwendolyn Burnett, I heard Gene Har...  \n",
              "9997  I almost bought a grill cover when I picked up...  \n",
              "9998  I'm a big fan of MT, and to be honest with you...  \n",
              "9999  I've read three of Terri Blackstocks books and...  "
            ]
          },
          "execution_count": 8,
          "metadata": {},
          "output_type": "execute_result"
        }
      ],
      "source": [
        "train_data.tail()"
      ]
    },
    {
      "cell_type": "code",
      "execution_count": 9,
      "metadata": {},
      "outputs": [
        {
          "data": {
            "text/plain": [
              "(10000, 3)"
            ]
          },
          "execution_count": 9,
          "metadata": {},
          "output_type": "execute_result"
        }
      ],
      "source": [
        "train_data.shape"
      ]
    },
    {
      "cell_type": "markdown",
      "metadata": {},
      "source": [
        "we have 1 for negative and 2 for positive, so replace 1 with 0 and 2 with 1"
      ]
    },
    {
      "cell_type": "code",
      "execution_count": 10,
      "metadata": {},
      "outputs": [],
      "source": [
        "train_data['result'] = train_data['result'].replace({1 : 0, 2 : 1}).astype(int)"
      ]
    },
    {
      "cell_type": "code",
      "execution_count": 11,
      "metadata": {},
      "outputs": [
        {
          "data": {
            "text/html": [
              "<div>\n",
              "<style scoped>\n",
              "    .dataframe tbody tr th:only-of-type {\n",
              "        vertical-align: middle;\n",
              "    }\n",
              "\n",
              "    .dataframe tbody tr th {\n",
              "        vertical-align: top;\n",
              "    }\n",
              "\n",
              "    .dataframe thead th {\n",
              "        text-align: right;\n",
              "    }\n",
              "</style>\n",
              "<table border=\"1\" class=\"dataframe\">\n",
              "  <thead>\n",
              "    <tr style=\"text-align: right;\">\n",
              "      <th></th>\n",
              "      <th>result</th>\n",
              "      <th>title</th>\n",
              "      <th>reviews</th>\n",
              "    </tr>\n",
              "  </thead>\n",
              "  <tbody>\n",
              "    <tr>\n",
              "      <th>137</th>\n",
              "      <td>0</td>\n",
              "      <td>Pointless</td>\n",
              "      <td>I purchased a set of these new and was unable ...</td>\n",
              "    </tr>\n",
              "    <tr>\n",
              "      <th>1507</th>\n",
              "      <td>1</td>\n",
              "      <td>A Major Talent!</td>\n",
              "      <td>Incredible Plot, incredible characters, incred...</td>\n",
              "    </tr>\n",
              "    <tr>\n",
              "      <th>3385</th>\n",
              "      <td>1</td>\n",
              "      <td>Ready, Set, Relax enriches education...</td>\n",
              "      <td>Ready, Set, Relax provides teachers and parent...</td>\n",
              "    </tr>\n",
              "    <tr>\n",
              "      <th>3109</th>\n",
              "      <td>1</td>\n",
              "      <td>Very good basic phone</td>\n",
              "      <td>I bought this phone because I wanted a dependa...</td>\n",
              "    </tr>\n",
              "    <tr>\n",
              "      <th>6141</th>\n",
              "      <td>0</td>\n",
              "      <td>Hmmm....</td>\n",
              "      <td>As much as I love her, Margaret Cho just wasn'...</td>\n",
              "    </tr>\n",
              "  </tbody>\n",
              "</table>\n",
              "</div>"
            ],
            "text/plain": [
              "      result                                    title  \\\n",
              "137        0                                Pointless   \n",
              "1507       1                          A Major Talent!   \n",
              "3385       1  Ready, Set, Relax enriches education...   \n",
              "3109       1                    Very good basic phone   \n",
              "6141       0                                 Hmmm....   \n",
              "\n",
              "                                                reviews  \n",
              "137   I purchased a set of these new and was unable ...  \n",
              "1507  Incredible Plot, incredible characters, incred...  \n",
              "3385  Ready, Set, Relax provides teachers and parent...  \n",
              "3109  I bought this phone because I wanted a dependa...  \n",
              "6141  As much as I love her, Margaret Cho just wasn'...  "
            ]
          },
          "execution_count": 11,
          "metadata": {},
          "output_type": "execute_result"
        }
      ],
      "source": [
        "train_data.sample(5)"
      ]
    },
    {
      "cell_type": "markdown",
      "metadata": {
        "id": "PBo0ttB8bMzp"
      },
      "source": [
        "load test data"
      ]
    },
    {
      "cell_type": "code",
      "execution_count": 12,
      "metadata": {
        "id": "dAf4F8L9bMaJ"
      },
      "outputs": [],
      "source": [
        "test_data= pd.read_csv(f\"{home}/data/test_data/test.csv\", names= ['result', 'title', 'reviews']).sample(2000)"
      ]
    },
    {
      "cell_type": "code",
      "execution_count": 13,
      "metadata": {},
      "outputs": [],
      "source": [
        "test_data.reset_index(drop=True, inplace=True)"
      ]
    },
    {
      "cell_type": "code",
      "execution_count": 14,
      "metadata": {
        "colab": {
          "base_uri": "https://localhost:8080/",
          "height": 206
        },
        "id": "pwOkhX9FcZt0",
        "outputId": "548186d9-9aa2-4fd3-d271-bc02515ff010"
      },
      "outputs": [
        {
          "data": {
            "text/html": [
              "<div>\n",
              "<style scoped>\n",
              "    .dataframe tbody tr th:only-of-type {\n",
              "        vertical-align: middle;\n",
              "    }\n",
              "\n",
              "    .dataframe tbody tr th {\n",
              "        vertical-align: top;\n",
              "    }\n",
              "\n",
              "    .dataframe thead th {\n",
              "        text-align: right;\n",
              "    }\n",
              "</style>\n",
              "<table border=\"1\" class=\"dataframe\">\n",
              "  <thead>\n",
              "    <tr style=\"text-align: right;\">\n",
              "      <th></th>\n",
              "      <th>result</th>\n",
              "      <th>title</th>\n",
              "      <th>reviews</th>\n",
              "    </tr>\n",
              "  </thead>\n",
              "  <tbody>\n",
              "    <tr>\n",
              "      <th>0</th>\n",
              "      <td>2</td>\n",
              "      <td>nice hamper for the price</td>\n",
              "      <td>I like this hamper because it seems sturdy and...</td>\n",
              "    </tr>\n",
              "    <tr>\n",
              "      <th>1</th>\n",
              "      <td>2</td>\n",
              "      <td>A very good nylon case for arts supplies</td>\n",
              "      <td>The soft nylon case is light-weight and appear...</td>\n",
              "    </tr>\n",
              "    <tr>\n",
              "      <th>2</th>\n",
              "      <td>2</td>\n",
              "      <td>\"Rae\" of light</td>\n",
              "      <td>Normally i don't listen to this genre of music...</td>\n",
              "    </tr>\n",
              "    <tr>\n",
              "      <th>3</th>\n",
              "      <td>1</td>\n",
              "      <td>Not really a Solaris 10 book</td>\n",
              "      <td>The author does not cover the new features of ...</td>\n",
              "    </tr>\n",
              "    <tr>\n",
              "      <th>4</th>\n",
              "      <td>2</td>\n",
              "      <td>good product</td>\n",
              "      <td>received as ordered and on time. would order a...</td>\n",
              "    </tr>\n",
              "  </tbody>\n",
              "</table>\n",
              "</div>"
            ],
            "text/plain": [
              "   result                                     title  \\\n",
              "0       2                 nice hamper for the price   \n",
              "1       2  A very good nylon case for arts supplies   \n",
              "2       2                            \"Rae\" of light   \n",
              "3       1              Not really a Solaris 10 book   \n",
              "4       2                              good product   \n",
              "\n",
              "                                             reviews  \n",
              "0  I like this hamper because it seems sturdy and...  \n",
              "1  The soft nylon case is light-weight and appear...  \n",
              "2  Normally i don't listen to this genre of music...  \n",
              "3  The author does not cover the new features of ...  \n",
              "4  received as ordered and on time. would order a...  "
            ]
          },
          "execution_count": 14,
          "metadata": {},
          "output_type": "execute_result"
        }
      ],
      "source": [
        "test_data.head()"
      ]
    },
    {
      "cell_type": "code",
      "execution_count": 15,
      "metadata": {
        "colab": {
          "base_uri": "https://localhost:8080/",
          "height": 206
        },
        "id": "rnNr710RcdQ9",
        "outputId": "9feb8cb7-2b1b-49c6-9e8f-5a821d22fd62"
      },
      "outputs": [
        {
          "data": {
            "text/html": [
              "<div>\n",
              "<style scoped>\n",
              "    .dataframe tbody tr th:only-of-type {\n",
              "        vertical-align: middle;\n",
              "    }\n",
              "\n",
              "    .dataframe tbody tr th {\n",
              "        vertical-align: top;\n",
              "    }\n",
              "\n",
              "    .dataframe thead th {\n",
              "        text-align: right;\n",
              "    }\n",
              "</style>\n",
              "<table border=\"1\" class=\"dataframe\">\n",
              "  <thead>\n",
              "    <tr style=\"text-align: right;\">\n",
              "      <th></th>\n",
              "      <th>result</th>\n",
              "      <th>title</th>\n",
              "      <th>reviews</th>\n",
              "    </tr>\n",
              "  </thead>\n",
              "  <tbody>\n",
              "    <tr>\n",
              "      <th>1995</th>\n",
              "      <td>2</td>\n",
              "      <td>I LOVED IT!</td>\n",
              "      <td>I love Garth Brooks no matter what he sings! H...</td>\n",
              "    </tr>\n",
              "    <tr>\n",
              "      <th>1996</th>\n",
              "      <td>1</td>\n",
              "      <td>Natural Progesterone Cream</td>\n",
              "      <td>Did not seem to help my menopause symptoms(ie,...</td>\n",
              "    </tr>\n",
              "    <tr>\n",
              "      <th>1997</th>\n",
              "      <td>2</td>\n",
              "      <td>A \"Classical Gas\" of an album</td>\n",
              "      <td>This is a great album no matter what kind of m...</td>\n",
              "    </tr>\n",
              "    <tr>\n",
              "      <th>1998</th>\n",
              "      <td>2</td>\n",
              "      <td>Tielhard De Chardin</td>\n",
              "      <td>This book has been one of the greatest inspira...</td>\n",
              "    </tr>\n",
              "    <tr>\n",
              "      <th>1999</th>\n",
              "      <td>1</td>\n",
              "      <td>This is a product from 1987. Do you have a Mac...</td>\n",
              "      <td>I bought this without realizing what I was get...</td>\n",
              "    </tr>\n",
              "  </tbody>\n",
              "</table>\n",
              "</div>"
            ],
            "text/plain": [
              "      result                                              title  \\\n",
              "1995       2                                        I LOVED IT!   \n",
              "1996       1                         Natural Progesterone Cream   \n",
              "1997       2                      A \"Classical Gas\" of an album   \n",
              "1998       2                                Tielhard De Chardin   \n",
              "1999       1  This is a product from 1987. Do you have a Mac...   \n",
              "\n",
              "                                                reviews  \n",
              "1995  I love Garth Brooks no matter what he sings! H...  \n",
              "1996  Did not seem to help my menopause symptoms(ie,...  \n",
              "1997  This is a great album no matter what kind of m...  \n",
              "1998  This book has been one of the greatest inspira...  \n",
              "1999  I bought this without realizing what I was get...  "
            ]
          },
          "execution_count": 15,
          "metadata": {},
          "output_type": "execute_result"
        }
      ],
      "source": [
        "test_data.tail()"
      ]
    },
    {
      "cell_type": "code",
      "execution_count": 16,
      "metadata": {},
      "outputs": [
        {
          "data": {
            "text/plain": [
              "(2000, 3)"
            ]
          },
          "execution_count": 16,
          "metadata": {},
          "output_type": "execute_result"
        }
      ],
      "source": [
        "test_data.shape"
      ]
    },
    {
      "cell_type": "markdown",
      "metadata": {},
      "source": [
        "we have 1 for negative and 2 for positive, so replace 1 with 0 and 2 with 1"
      ]
    },
    {
      "cell_type": "code",
      "execution_count": 17,
      "metadata": {},
      "outputs": [],
      "source": [
        "test_data['result'] = test_data['result'].replace({1 : 0, 2 : 1}).astype(int)"
      ]
    },
    {
      "cell_type": "code",
      "execution_count": 18,
      "metadata": {},
      "outputs": [
        {
          "data": {
            "text/html": [
              "<div>\n",
              "<style scoped>\n",
              "    .dataframe tbody tr th:only-of-type {\n",
              "        vertical-align: middle;\n",
              "    }\n",
              "\n",
              "    .dataframe tbody tr th {\n",
              "        vertical-align: top;\n",
              "    }\n",
              "\n",
              "    .dataframe thead th {\n",
              "        text-align: right;\n",
              "    }\n",
              "</style>\n",
              "<table border=\"1\" class=\"dataframe\">\n",
              "  <thead>\n",
              "    <tr style=\"text-align: right;\">\n",
              "      <th></th>\n",
              "      <th>result</th>\n",
              "      <th>title</th>\n",
              "      <th>reviews</th>\n",
              "    </tr>\n",
              "  </thead>\n",
              "  <tbody>\n",
              "    <tr>\n",
              "      <th>470</th>\n",
              "      <td>0</td>\n",
              "      <td>Don't waste your money</td>\n",
              "      <td>This is the second time I've ordered this pump...</td>\n",
              "    </tr>\n",
              "    <tr>\n",
              "      <th>483</th>\n",
              "      <td>1</td>\n",
              "      <td>Napoleon and Samantha is a wonderful movie.</td>\n",
              "      <td>I have watched this movie only once in my life...</td>\n",
              "    </tr>\n",
              "    <tr>\n",
              "      <th>1215</th>\n",
              "      <td>0</td>\n",
              "      <td>Weak TV cartoons based on Sunday comic strips.</td>\n",
              "      <td>This was Filmation's weak attempt to bring the...</td>\n",
              "    </tr>\n",
              "    <tr>\n",
              "      <th>613</th>\n",
              "      <td>1</td>\n",
              "      <td>And the winner is......</td>\n",
              "      <td>If your looking for an affordable boost in hor...</td>\n",
              "    </tr>\n",
              "    <tr>\n",
              "      <th>535</th>\n",
              "      <td>1</td>\n",
              "      <td>Gold Standard on Pianos</td>\n",
              "      <td>this supplement is a must for current informat...</td>\n",
              "    </tr>\n",
              "  </tbody>\n",
              "</table>\n",
              "</div>"
            ],
            "text/plain": [
              "      result                                           title  \\\n",
              "470        0                          Don't waste your money   \n",
              "483        1     Napoleon and Samantha is a wonderful movie.   \n",
              "1215       0  Weak TV cartoons based on Sunday comic strips.   \n",
              "613        1                         And the winner is......   \n",
              "535        1                         Gold Standard on Pianos   \n",
              "\n",
              "                                                reviews  \n",
              "470   This is the second time I've ordered this pump...  \n",
              "483   I have watched this movie only once in my life...  \n",
              "1215  This was Filmation's weak attempt to bring the...  \n",
              "613   If your looking for an affordable boost in hor...  \n",
              "535   this supplement is a must for current informat...  "
            ]
          },
          "execution_count": 18,
          "metadata": {},
          "output_type": "execute_result"
        }
      ],
      "source": [
        "test_data.sample(5)"
      ]
    },
    {
      "cell_type": "markdown",
      "metadata": {
        "id": "lM20LyJ-Fgtx"
      },
      "source": [
        "unique classes"
      ]
    },
    {
      "cell_type": "code",
      "execution_count": 19,
      "metadata": {
        "id": "HhY7tBKZFkuw"
      },
      "outputs": [
        {
          "data": {
            "text/plain": [
              "array([1, 0])"
            ]
          },
          "execution_count": 19,
          "metadata": {},
          "output_type": "execute_result"
        }
      ],
      "source": [
        "labels= train_data['result'].unique()\n",
        "labels"
      ]
    },
    {
      "cell_type": "markdown",
      "metadata": {
        "id": "gXU4LBzZLNsT"
      },
      "source": [
        "# 3. Preprocessing"
      ]
    },
    {
      "cell_type": "markdown",
      "metadata": {
        "id": "isLN_Z4NOIRN"
      },
      "source": [
        "drop missing values"
      ]
    },
    {
      "cell_type": "code",
      "execution_count": 20,
      "metadata": {
        "id": "t8aJp2IUPI0T"
      },
      "outputs": [],
      "source": [
        "train_data.dropna(inplace=True)\n",
        "test_data.dropna(inplace=True)"
      ]
    },
    {
      "cell_type": "code",
      "execution_count": 21,
      "metadata": {
        "colab": {
          "base_uri": "https://localhost:8080/"
        },
        "id": "ZuHOV_n7AKep",
        "outputId": "f342221a-28e9-469d-ae78-85c25f7c9841"
      },
      "outputs": [
        {
          "data": {
            "text/plain": [
              "result     0\n",
              "title      0\n",
              "reviews    0\n",
              "dtype: int64"
            ]
          },
          "execution_count": 21,
          "metadata": {},
          "output_type": "execute_result"
        }
      ],
      "source": [
        "train_data.isna().sum()"
      ]
    },
    {
      "cell_type": "code",
      "execution_count": 22,
      "metadata": {
        "colab": {
          "base_uri": "https://localhost:8080/"
        },
        "id": "_ihkIpoDcox9",
        "outputId": "e0a5cb5d-446c-419c-90eb-3f5a122683dd"
      },
      "outputs": [
        {
          "data": {
            "text/plain": [
              "result     0\n",
              "title      0\n",
              "reviews    0\n",
              "dtype: int64"
            ]
          },
          "execution_count": 22,
          "metadata": {},
          "output_type": "execute_result"
        }
      ],
      "source": [
        "test_data.isna().sum()"
      ]
    },
    {
      "cell_type": "markdown",
      "metadata": {
        "id": "OqGhKcWbPfkQ"
      },
      "source": [
        "drop duplicates"
      ]
    },
    {
      "cell_type": "code",
      "execution_count": 23,
      "metadata": {
        "id": "WnW-RI75Ph6i"
      },
      "outputs": [],
      "source": [
        "train_data.drop_duplicates(inplace=True)\n",
        "test_data.drop_duplicates(inplace=True)"
      ]
    },
    {
      "cell_type": "markdown",
      "metadata": {
        "id": "LDToOtQqQD1m"
      },
      "source": [
        "we have column `title` not necessary, so we drop it"
      ]
    },
    {
      "cell_type": "code",
      "execution_count": 24,
      "metadata": {
        "id": "0RVhcFpzRx36"
      },
      "outputs": [],
      "source": [
        "train_data.drop('title', axis=1, inplace= True)"
      ]
    },
    {
      "cell_type": "code",
      "execution_count": 25,
      "metadata": {
        "id": "ajJ_N3Hoc476"
      },
      "outputs": [],
      "source": [
        "test_data.drop('title', axis=1, inplace= True)"
      ]
    },
    {
      "cell_type": "markdown",
      "metadata": {
        "id": "M7OCRO9rSh-5"
      },
      "source": [
        "now, we will start the preprcessing step for NLP"
      ]
    },
    {
      "cell_type": "markdown",
      "metadata": {
        "id": "knOHcHRIS78J"
      },
      "source": [
        "Noise Removal"
      ]
    },
    {
      "cell_type": "code",
      "execution_count": 26,
      "metadata": {
        "id": "E5wdULfNTAn1"
      },
      "outputs": [],
      "source": [
        "import nltk\n",
        "from nltk.corpus import stopwords\n",
        "# nltk.download('stopwords')"
      ]
    },
    {
      "cell_type": "markdown",
      "metadata": {
        "id": "fKt1S_UdU0--"
      },
      "source": [
        "Tokenization"
      ]
    },
    {
      "cell_type": "code",
      "execution_count": 27,
      "metadata": {
        "id": "DBfSHdnEU7mb"
      },
      "outputs": [],
      "source": [
        "from nltk.tokenize import word_tokenize, sent_tokenize\n",
        "# nltk.download('punkt')\n",
        "# nltk.download('wordnet')"
      ]
    },
    {
      "cell_type": "markdown",
      "metadata": {
        "id": "Vx8SOuuRVU9s"
      },
      "source": [
        "Word normalization with `PorterStemmer` and `WordNetLemmatizer`"
      ]
    },
    {
      "cell_type": "code",
      "execution_count": 28,
      "metadata": {
        "id": "cWZYCZu6VC-9"
      },
      "outputs": [],
      "source": [
        "from nltk.stem import WordNetLemmatizer, PorterStemmer"
      ]
    },
    {
      "cell_type": "code",
      "execution_count": 34,
      "metadata": {},
      "outputs": [],
      "source": [
        "import contractions\n",
        "import re"
      ]
    },
    {
      "cell_type": "markdown",
      "metadata": {
        "id": "cDlzb-in1SjD"
      },
      "source": [
        "Define funcation preprocessing"
      ]
    },
    {
      "cell_type": "code",
      "execution_count": 35,
      "metadata": {},
      "outputs": [],
      "source": [
        "def preprocessing(text):\n",
        "    stop_words = set(stopwords.words('english'))\n",
        "    excluding = ['againts','no', 'not', 'don', \"don't\", 'ain', 'aren', \"aren't\", 'couldn', \"couldn't\", 'didn',\n",
        "                 \"didn't\",'doesn', \"doesn't\", 'hadn', \"hadn't\", 'has', \"hasn't\", 'haven', \"haven't\", 'isn',\n",
        "                 \"isn't\", 'might', \"mightn't\", 'mustn', \"mustn't\", 'needn', \"needn't\", 'shouldn', \"shouldn't\",\n",
        "                 'wasn', \"wasn't\", 'weren', \"weren't\", 'won', \"won't\", 'wouldn', \"wouldn't\"]\n",
        "    stop_words = [word for word in stop_words if word not in excluding]\n",
        "\n",
        "    stemmer = PorterStemmer()\n",
        "    lemmatizer = WordNetLemmatizer()\n",
        "\n",
        "    cleaned_texts = []\n",
        "    sentences = sent_tokenize(text)\n",
        "\n",
        "    for sent in sentences:\n",
        "        filtered_sent = []\n",
        "        tokens = word_tokenize(sent.lower())\n",
        "\n",
        "        for token in tokens:\n",
        "            token = re.sub(r'[^a-zA-Z0-9]', '', contractions.fix(token))\n",
        "\n",
        "            if (token.isalpha()) and (len(token) > 2) and (token not in stop_words):\n",
        "                token = lemmatizer.lemmatize(stemmer.stem(token))\n",
        "                filtered_sent.append(token)\n",
        "\n",
        "        cleaned_sent = \" \".join(filtered_sent)\n",
        "        cleaned_texts.append(cleaned_sent)\n",
        "\n",
        "    preprocessed_text = \" \".join(cleaned_texts)\n",
        "    return preprocessed_text"
      ]
    },
    {
      "cell_type": "code",
      "execution_count": 36,
      "metadata": {},
      "outputs": [
        {
          "data": {
            "text/plain": [
              "(2000, 2)"
            ]
          },
          "execution_count": 36,
          "metadata": {},
          "output_type": "execute_result"
        }
      ],
      "source": [
        "test_data.shape"
      ]
    },
    {
      "cell_type": "code",
      "execution_count": 37,
      "metadata": {
        "colab": {
          "base_uri": "https://localhost:8080/",
          "height": 53
        },
        "id": "zYpV3zpIAvJ6",
        "outputId": "cacf97d6-23fa-497e-dc4f-943c03f0c1d7"
      },
      "outputs": [
        {
          "data": {
            "text/plain": [
              "'Normally i don\\'t listen to this genre of music but I heard her song \"Put Your Records On\" on a smooth jazz station and was intrigued.The whole CD is like a tall glass of cold water on a sweltering summer\\'s day.Very sexy, smooth,and seductive.I love it!'"
            ]
          },
          "execution_count": 37,
          "metadata": {},
          "output_type": "execute_result"
        }
      ],
      "source": [
        "test_data['reviews'][2]"
      ]
    },
    {
      "cell_type": "code",
      "execution_count": 38,
      "metadata": {
        "colab": {
          "base_uri": "https://localhost:8080/",
          "height": 53
        },
        "id": "qtJyBV0zAfpy",
        "outputId": "2d5a9094-6ce2-463f-dadd-0a2b8cc11cfe"
      },
      "outputs": [
        {
          "data": {
            "text/plain": [
              "'normal listen genr music heard song put record smooth jazz station intriguedth whole like tall glass cold water swelter summer dayveri sexi smooth seductivei love'"
            ]
          },
          "execution_count": 38,
          "metadata": {},
          "output_type": "execute_result"
        }
      ],
      "source": [
        "x = preprocessing(test_data['reviews'][2])\n",
        "x"
      ]
    },
    {
      "cell_type": "code",
      "execution_count": 39,
      "metadata": {
        "id": "OhZJTXKUe0hK"
      },
      "outputs": [],
      "source": [
        "X_train= train_data['reviews'].values\n",
        "y_train= train_data['result'].values.tolist()"
      ]
    },
    {
      "cell_type": "code",
      "execution_count": 40,
      "metadata": {
        "id": "_msGBS2aeytO"
      },
      "outputs": [],
      "source": [
        "X_test= test_data['reviews'].values\n",
        "y_test= test_data['result'].values.tolist()"
      ]
    },
    {
      "cell_type": "markdown",
      "metadata": {},
      "source": [
        "# 4. EDA"
      ]
    },
    {
      "cell_type": "code",
      "execution_count": 41,
      "metadata": {},
      "outputs": [
        {
          "ename": "NameError",
          "evalue": "name 'sns' is not defined",
          "output_type": "error",
          "traceback": [
            "\u001b[1;31m---------------------------------------------------------------------------\u001b[0m",
            "\u001b[1;31mNameError\u001b[0m                                 Traceback (most recent call last)",
            "Cell \u001b[1;32mIn[41], line 2\u001b[0m\n\u001b[0;32m      1\u001b[0m \u001b[39m# plot\u001b[39;00m\n\u001b[1;32m----> 2\u001b[0m ax\u001b[39m=\u001b[39m sns\u001b[39m.\u001b[39mcountplot(x\u001b[39m=\u001b[39mtrain_data[\u001b[39m'\u001b[39m\u001b[39mresult\u001b[39m\u001b[39m'\u001b[39m],\n\u001b[0;32m      3\u001b[0m                   data\u001b[39m=\u001b[39mtrain_data)\n\u001b[0;32m      5\u001b[0m \u001b[39mfor\u001b[39;00m p \u001b[39min\u001b[39;00m ax\u001b[39m.\u001b[39mpatches: \u001b[39m# bars\u001b[39;00m\n\u001b[0;32m      6\u001b[0m \u001b[39m    \u001b[39m\u001b[39m'''\u001b[39;00m\n\u001b[0;32m      7\u001b[0m \u001b[39m    get_bbox(): return bounding box of the bar, \u001b[39;00m\n\u001b[0;32m      8\u001b[0m \u001b[39m    get_points(): returns the coordinates of the four corners of the bounding box.\u001b[39;00m\n\u001b[0;32m      9\u001b[0m \u001b[39m    '''\u001b[39;00m\n",
            "\u001b[1;31mNameError\u001b[0m: name 'sns' is not defined"
          ]
        }
      ],
      "source": [
        "# plot\n",
        "ax= sns.countplot(x=train_data['result'],\n",
        "                  data=train_data)\n",
        "\n",
        "for p in ax.patches: # bars\n",
        "    '''\n",
        "    get_bbox(): return bounding box of the bar, \n",
        "    get_points(): returns the coordinates of the four corners of the bounding box.\n",
        "    '''\n",
        "    x= p.get_bbox().get_points()[:,0] # extract the x-coordinates of the four corners of the bar rectangle\n",
        "    y= p.get_bbox().get_points()[1,1] # extract the y-coordinate of the top-right corner\n",
        "    ax.annotate(f'{y:.0f}', (x.mean(), y), ha='center',va='bottom') # text on top bar\n",
        "    \n",
        "plt.title(\"Reviews are balance\")\n",
        "plt.show()"
      ]
    },
    {
      "cell_type": "markdown",
      "metadata": {
        "id": "i2zVrql5Lfc9"
      },
      "source": [
        "# 5. Model Selection"
      ]
    },
    {
      "cell_type": "code",
      "execution_count": 125,
      "metadata": {
        "id": "CYNKXyJILje-"
      },
      "outputs": [],
      "source": [
        "from sklearn.pipeline import Pipeline\n",
        "from sklearn.model_selection import GridSearchCV\n",
        "\n",
        "from sklearn.feature_extraction.text import TfidfVectorizer\n",
        "from sklearn.linear_model import LogisticRegression\n",
        "# from sklearn.naive_bayes import MultinomialNB"
      ]
    },
    {
      "cell_type": "markdown",
      "metadata": {
        "id": "tEkrVSD184Fg"
      },
      "source": [
        "Define the pipeline"
      ]
    },
    {
      "cell_type": "code",
      "execution_count": 136,
      "metadata": {
        "id": "0lB29tz77luA"
      },
      "outputs": [],
      "source": [
        "pipeline= Pipeline([\n",
        "    ('tfidf', TfidfVectorizer(use_idf=True,\n",
        "                              preprocessor= preprocessing, \n",
        "                              tokenizer=word_tokenize,\n",
        "                              max_features=5000,\n",
        "                              max_df= 0.5,\n",
        "                              min_df= 3,\n",
        "                              ngram_range=(1, 3)\n",
        "                            #   analyzer='char'\n",
        "                              )\n",
        "     ),\n",
        "    ('nb', LogisticRegression(max_iter=100))\n",
        "])"
      ]
    },
    {
      "cell_type": "markdown",
      "metadata": {
        "id": "kjzwzpwO9JLJ"
      },
      "source": [
        "Define a grid of hyperparameters for the MultinomialNB model\n"
      ]
    },
    {
      "cell_type": "code",
      "execution_count": 107,
      "metadata": {
        "id": "VTcD6Apq9K75"
      },
      "outputs": [],
      "source": [
        "# param_grid_lr= {\n",
        "    # 'tfidf__ngram_range': [(1, 1), (1, 2), (2, 2), (1,3)],\n",
        "    # 'tfidf__max_df': [0.5, 0.75, 1.0],\n",
        "    # 'tfidf__min_df': [1, 2, 3],\n",
        "    # 'tfidf__max_features': [1000, 5000, 10000, 20000],\n",
        "    # 'tfidf__analyzer': ['word', 'char', 'char_wb'],\n",
        "    # 'lr__C': [0.1, 1, 10]\n",
        "# }"
      ]
    },
    {
      "cell_type": "markdown",
      "metadata": {
        "id": "b2rtEFWzAGyw"
      },
      "source": [
        "Create GridSearchCV instance"
      ]
    },
    {
      "cell_type": "code",
      "execution_count": 94,
      "metadata": {
        "id": "3JLiHQEIAJPz"
      },
      "outputs": [],
      "source": [
        "# grid_search= GridSearchCV(pipeline,\n",
        "#                           param_grid= param_grid_lr,\n",
        "#                           cv= 5,\n",
        "#                           return_train_score= True)"
      ]
    },
    {
      "cell_type": "markdown",
      "metadata": {
        "id": "QEgYF5wDBpEM"
      },
      "source": [
        "# 6. Model Training"
      ]
    },
    {
      "cell_type": "code",
      "execution_count": 95,
      "metadata": {
        "colab": {
          "base_uri": "https://localhost:8080/",
          "height": 175
        },
        "id": "cFgIqpZjI8yh",
        "outputId": "da6a0b9b-6caa-4d1e-f95b-fcc13907c556"
      },
      "outputs": [
        {
          "data": {
            "text/plain": [
              "list"
            ]
          },
          "execution_count": 95,
          "metadata": {},
          "output_type": "execute_result"
        }
      ],
      "source": [
        "type(y_train)"
      ]
    },
    {
      "cell_type": "code",
      "execution_count": 96,
      "metadata": {
        "colab": {
          "base_uri": "https://localhost:8080/"
        },
        "id": "xN5KGVgKI5m8",
        "outputId": "3d8fab96-362f-49b7-f26a-6114099614db"
      },
      "outputs": [
        {
          "data": {
            "text/plain": [
              "numpy.ndarray"
            ]
          },
          "execution_count": 96,
          "metadata": {},
          "output_type": "execute_result"
        }
      ],
      "source": [
        "type(X_train)"
      ]
    },
    {
      "cell_type": "markdown",
      "metadata": {
        "id": "55BeG0idA_m8"
      },
      "source": [
        "Fit the GridSearchCV on your training data"
      ]
    },
    {
      "cell_type": "code",
      "execution_count": 137,
      "metadata": {
        "colab": {
          "base_uri": "https://localhost:8080/"
        },
        "id": "AOtri6SxBBAU",
        "outputId": "3ce8f074-0719-4b05-bc95-45ee2c9a68b0"
      },
      "outputs": [
        {
          "name": "stderr",
          "output_type": "stream",
          "text": [
            "c:\\Users\\CENTER_ELRahama\\AppData\\Local\\Programs\\Python\\Python311\\Lib\\site-packages\\sklearn\\feature_extraction\\text.py:525: UserWarning: The parameter 'token_pattern' will not be used since 'tokenizer' is not None'\n",
            "  warnings.warn(\n"
          ]
        },
        {
          "data": {
            "text/html": [
              "<style>#sk-container-id-8 {color: black;}#sk-container-id-8 pre{padding: 0;}#sk-container-id-8 div.sk-toggleable {background-color: white;}#sk-container-id-8 label.sk-toggleable__label {cursor: pointer;display: block;width: 100%;margin-bottom: 0;padding: 0.3em;box-sizing: border-box;text-align: center;}#sk-container-id-8 label.sk-toggleable__label-arrow:before {content: \"▸\";float: left;margin-right: 0.25em;color: #696969;}#sk-container-id-8 label.sk-toggleable__label-arrow:hover:before {color: black;}#sk-container-id-8 div.sk-estimator:hover label.sk-toggleable__label-arrow:before {color: black;}#sk-container-id-8 div.sk-toggleable__content {max-height: 0;max-width: 0;overflow: hidden;text-align: left;background-color: #f0f8ff;}#sk-container-id-8 div.sk-toggleable__content pre {margin: 0.2em;color: black;border-radius: 0.25em;background-color: #f0f8ff;}#sk-container-id-8 input.sk-toggleable__control:checked~div.sk-toggleable__content {max-height: 200px;max-width: 100%;overflow: auto;}#sk-container-id-8 input.sk-toggleable__control:checked~label.sk-toggleable__label-arrow:before {content: \"▾\";}#sk-container-id-8 div.sk-estimator input.sk-toggleable__control:checked~label.sk-toggleable__label {background-color: #d4ebff;}#sk-container-id-8 div.sk-label input.sk-toggleable__control:checked~label.sk-toggleable__label {background-color: #d4ebff;}#sk-container-id-8 input.sk-hidden--visually {border: 0;clip: rect(1px 1px 1px 1px);clip: rect(1px, 1px, 1px, 1px);height: 1px;margin: -1px;overflow: hidden;padding: 0;position: absolute;width: 1px;}#sk-container-id-8 div.sk-estimator {font-family: monospace;background-color: #f0f8ff;border: 1px dotted black;border-radius: 0.25em;box-sizing: border-box;margin-bottom: 0.5em;}#sk-container-id-8 div.sk-estimator:hover {background-color: #d4ebff;}#sk-container-id-8 div.sk-parallel-item::after {content: \"\";width: 100%;border-bottom: 1px solid gray;flex-grow: 1;}#sk-container-id-8 div.sk-label:hover label.sk-toggleable__label {background-color: #d4ebff;}#sk-container-id-8 div.sk-serial::before {content: \"\";position: absolute;border-left: 1px solid gray;box-sizing: border-box;top: 0;bottom: 0;left: 50%;z-index: 0;}#sk-container-id-8 div.sk-serial {display: flex;flex-direction: column;align-items: center;background-color: white;padding-right: 0.2em;padding-left: 0.2em;position: relative;}#sk-container-id-8 div.sk-item {position: relative;z-index: 1;}#sk-container-id-8 div.sk-parallel {display: flex;align-items: stretch;justify-content: center;background-color: white;position: relative;}#sk-container-id-8 div.sk-item::before, #sk-container-id-8 div.sk-parallel-item::before {content: \"\";position: absolute;border-left: 1px solid gray;box-sizing: border-box;top: 0;bottom: 0;left: 50%;z-index: -1;}#sk-container-id-8 div.sk-parallel-item {display: flex;flex-direction: column;z-index: 1;position: relative;background-color: white;}#sk-container-id-8 div.sk-parallel-item:first-child::after {align-self: flex-end;width: 50%;}#sk-container-id-8 div.sk-parallel-item:last-child::after {align-self: flex-start;width: 50%;}#sk-container-id-8 div.sk-parallel-item:only-child::after {width: 0;}#sk-container-id-8 div.sk-dashed-wrapped {border: 1px dashed gray;margin: 0 0.4em 0.5em 0.4em;box-sizing: border-box;padding-bottom: 0.4em;background-color: white;}#sk-container-id-8 div.sk-label label {font-family: monospace;font-weight: bold;display: inline-block;line-height: 1.2em;}#sk-container-id-8 div.sk-label-container {text-align: center;}#sk-container-id-8 div.sk-container {/* jupyter's `normalize.less` sets `[hidden] { display: none; }` but bootstrap.min.css set `[hidden] { display: none !important; }` so we also need the `!important` here to be able to override the default hidden behavior on the sphinx rendered scikit-learn.org. See: https://github.com/scikit-learn/scikit-learn/issues/21755 */display: inline-block !important;position: relative;}#sk-container-id-8 div.sk-text-repr-fallback {display: none;}</style><div id=\"sk-container-id-8\" class=\"sk-top-container\"><div class=\"sk-text-repr-fallback\"><pre>Pipeline(steps=[(&#x27;tfidf&#x27;,\n",
              "                 TfidfVectorizer(max_df=0.5, max_features=5000, min_df=3,\n",
              "                                 ngram_range=(1, 3),\n",
              "                                 preprocessor=&lt;function preprocessing at 0x00000289962F53A0&gt;,\n",
              "                                 tokenizer=&lt;function word_tokenize at 0x0000028A1B1F2FC0&gt;)),\n",
              "                (&#x27;nb&#x27;, LogisticRegression())])</pre><b>In a Jupyter environment, please rerun this cell to show the HTML representation or trust the notebook. <br />On GitHub, the HTML representation is unable to render, please try loading this page with nbviewer.org.</b></div><div class=\"sk-container\" hidden><div class=\"sk-item sk-dashed-wrapped\"><div class=\"sk-label-container\"><div class=\"sk-label sk-toggleable\"><input class=\"sk-toggleable__control sk-hidden--visually\" id=\"sk-estimator-id-22\" type=\"checkbox\" ><label for=\"sk-estimator-id-22\" class=\"sk-toggleable__label sk-toggleable__label-arrow\">Pipeline</label><div class=\"sk-toggleable__content\"><pre>Pipeline(steps=[(&#x27;tfidf&#x27;,\n",
              "                 TfidfVectorizer(max_df=0.5, max_features=5000, min_df=3,\n",
              "                                 ngram_range=(1, 3),\n",
              "                                 preprocessor=&lt;function preprocessing at 0x00000289962F53A0&gt;,\n",
              "                                 tokenizer=&lt;function word_tokenize at 0x0000028A1B1F2FC0&gt;)),\n",
              "                (&#x27;nb&#x27;, LogisticRegression())])</pre></div></div></div><div class=\"sk-serial\"><div class=\"sk-item\"><div class=\"sk-estimator sk-toggleable\"><input class=\"sk-toggleable__control sk-hidden--visually\" id=\"sk-estimator-id-23\" type=\"checkbox\" ><label for=\"sk-estimator-id-23\" class=\"sk-toggleable__label sk-toggleable__label-arrow\">TfidfVectorizer</label><div class=\"sk-toggleable__content\"><pre>TfidfVectorizer(max_df=0.5, max_features=5000, min_df=3, ngram_range=(1, 3),\n",
              "                preprocessor=&lt;function preprocessing at 0x00000289962F53A0&gt;,\n",
              "                tokenizer=&lt;function word_tokenize at 0x0000028A1B1F2FC0&gt;)</pre></div></div></div><div class=\"sk-item\"><div class=\"sk-estimator sk-toggleable\"><input class=\"sk-toggleable__control sk-hidden--visually\" id=\"sk-estimator-id-24\" type=\"checkbox\" ><label for=\"sk-estimator-id-24\" class=\"sk-toggleable__label sk-toggleable__label-arrow\">LogisticRegression</label><div class=\"sk-toggleable__content\"><pre>LogisticRegression()</pre></div></div></div></div></div></div></div>"
            ],
            "text/plain": [
              "Pipeline(steps=[('tfidf',\n",
              "                 TfidfVectorizer(max_df=0.5, max_features=5000, min_df=3,\n",
              "                                 ngram_range=(1, 3),\n",
              "                                 preprocessor=<function preprocessing at 0x00000289962F53A0>,\n",
              "                                 tokenizer=<function word_tokenize at 0x0000028A1B1F2FC0>)),\n",
              "                ('nb', LogisticRegression())])"
            ]
          },
          "execution_count": 137,
          "metadata": {},
          "output_type": "execute_result"
        }
      ],
      "source": [
        "pipeline.fit(X_train, y_train)"
      ]
    },
    {
      "cell_type": "markdown",
      "metadata": {
        "id": "CgNgyTJ0Cq9G"
      },
      "source": [
        "params for number of iteration"
      ]
    },
    {
      "cell_type": "code",
      "execution_count": 98,
      "metadata": {
        "id": "bZHunXjdCsiF"
      },
      "outputs": [],
      "source": [
        "# pd.DataFrame(grid_search.cv_results_)[['params']]"
      ]
    },
    {
      "cell_type": "markdown",
      "metadata": {
        "id": "SNvEKsqMC_5o"
      },
      "source": [
        "Best parameters"
      ]
    },
    {
      "cell_type": "code",
      "execution_count": 99,
      "metadata": {
        "id": "tL1jb7JFDDhz"
      },
      "outputs": [],
      "source": [
        "# grid_search.best_params_"
      ]
    },
    {
      "cell_type": "markdown",
      "metadata": {
        "id": "Tts7zLt-DGJN"
      },
      "source": [
        "Best score"
      ]
    },
    {
      "cell_type": "code",
      "execution_count": 100,
      "metadata": {
        "id": "62uZs9QuDPVb"
      },
      "outputs": [],
      "source": [
        "# f\"{round(pipeline.best_score_*100)}%\""
      ]
    },
    {
      "cell_type": "markdown",
      "metadata": {
        "id": "yNZ9hYoFBKiw"
      },
      "source": [
        " Get the best estimator"
      ]
    },
    {
      "cell_type": "code",
      "execution_count": 101,
      "metadata": {
        "id": "kAyNB_vyBMS5"
      },
      "outputs": [],
      "source": [
        "# best_pipline= grid_search.best_estimator_"
      ]
    },
    {
      "cell_type": "markdown",
      "metadata": {
        "id": "DhEoIwv0LxK0"
      },
      "source": [
        "# 7. Model Evaluation"
      ]
    },
    {
      "cell_type": "code",
      "execution_count": 53,
      "metadata": {
        "id": "LPb71gAyD8s0"
      },
      "outputs": [],
      "source": [
        "from sklearn.metrics import accuracy_score, confusion_matrix"
      ]
    },
    {
      "cell_type": "markdown",
      "metadata": {
        "id": "RtNE4cS8BZwi"
      },
      "source": [
        " Now you can use the best_pipeline for prediction"
      ]
    },
    {
      "cell_type": "code",
      "execution_count": 138,
      "metadata": {
        "id": "uKNa9IxYL0FS"
      },
      "outputs": [],
      "source": [
        "y_pred= pipeline.predict(X_test)"
      ]
    },
    {
      "cell_type": "markdown",
      "metadata": {
        "id": "frGF6NKHEmeb"
      },
      "source": [
        "accuracy_score"
      ]
    },
    {
      "cell_type": "code",
      "execution_count": 139,
      "metadata": {
        "id": "EUV4umzIEBnt"
      },
      "outputs": [
        {
          "name": "stdout",
          "output_type": "stream",
          "text": [
            "Accuracy: 83%\n"
          ]
        }
      ],
      "source": [
        "accuracy = accuracy_score(y_test, y_pred)\n",
        "print(f\"Accuracy: {round(accuracy*100)}%\")"
      ]
    },
    {
      "cell_type": "markdown",
      "metadata": {
        "id": "FAAuXn5LEyfu"
      },
      "source": [
        "confusion_matrix"
      ]
    },
    {
      "cell_type": "code",
      "execution_count": 140,
      "metadata": {
        "id": "NSuqESBrE0R7"
      },
      "outputs": [
        {
          "data": {
            "text/plain": [
              "array([[802, 166],\n",
              "       [172, 860]], dtype=int64)"
            ]
          },
          "execution_count": 140,
          "metadata": {},
          "output_type": "execute_result"
        }
      ],
      "source": [
        "cm = confusion_matrix(y_test, y_pred)\n",
        "cm"
      ]
    },
    {
      "cell_type": "markdown",
      "metadata": {
        "id": "DPCGfj-9FAha"
      },
      "source": [
        "# 8. Visualization"
      ]
    },
    {
      "cell_type": "code",
      "execution_count": 141,
      "metadata": {
        "id": "RVrsI2PxKuKY"
      },
      "outputs": [],
      "source": [
        "import matplotlib.pyplot as plt\n",
        "import seaborn as sns"
      ]
    },
    {
      "cell_type": "markdown",
      "metadata": {
        "id": "bYaE1FpYFHrE"
      },
      "source": [
        "Heatmap"
      ]
    },
    {
      "cell_type": "code",
      "execution_count": 142,
      "metadata": {
        "id": "g3r18XPaFJ3F"
      },
      "outputs": [
        {
          "data": {
            "image/png": "[encoded data removed]",
            "text/plain": [
              "<Figure size 800x600 with 2 Axes>"
            ]
          },
          "metadata": {},
          "output_type": "display_data"
        }
      ],
      "source": [
        "plt.figure(figsize = (8,6))\n",
        "sns.heatmap(cm,\n",
        "            xticklabels=labels,\n",
        "            yticklabels=labels,\n",
        "            annot=True,\n",
        "            cmap='Blues',\n",
        "            fmt='g')\n",
        "plt.xlabel('Predicted')\n",
        "plt.ylabel('True')\n",
        "plt.title('Confusion Matrix')\n",
        "plt.show()"
      ]
    },
    {
      "cell_type": "markdown",
      "metadata": {
        "id": "7p9EKEZTL0kJ"
      },
      "source": [
        "# 9. Save Model"
      ]
    },
    {
      "cell_type": "code",
      "execution_count": 143,
      "metadata": {
        "id": "ziyNo7ErF_Yk"
      },
      "outputs": [
        {
          "data": {
            "text/plain": [
              "['d:\\\\Projects\\\\RA/models/pp_tfidf_lr_no_hp_83.joblib']"
            ]
          },
          "execution_count": 143,
          "metadata": {},
          "output_type": "execute_result"
        }
      ],
      "source": [
        "import joblib\n",
        "model_path = f'{home}/models/pp_tfidf_lr_no_hp_83.joblib'\n",
        "joblib.dump(pipeline, model_path)"
      ]
    },
    {
      "cell_type": "code",
      "execution_count": 144,
      "metadata": {
        "id": "s-NUJq0BcwMz"
      },
      "outputs": [],
      "source": [
        "model= joblib.load(model_path)"
      ]
    },
    {
      "cell_type": "code",
      "execution_count": 156,
      "metadata": {},
      "outputs": [
        {
          "data": {
            "text/plain": [
              "array([1])"
            ]
          },
          "execution_count": 156,
          "metadata": {},
          "output_type": "execute_result"
        }
      ],
      "source": [
        "model.predict([\"hello it's great service, thank you\"]) # "
      ]
    },
    {
      "cell_type": "code",
      "execution_count": 158,
      "metadata": {},
      "outputs": [
        {
          "data": {
            "text/plain": [
              "array([0])"
            ]
          },
          "execution_count": 158,
          "metadata": {},
          "output_type": "execute_result"
        }
      ],
      "source": [
        "model.predict([\"hello it's bad service, i'm sad\"]) # "
      ]
    },
    {
      "cell_type": "code",
      "execution_count": null,
      "metadata": {},
      "outputs": [],
      "source": []
    },
    {
      "cell_type": "code",
      "execution_count": null,
      "metadata": {},
      "outputs": [],
      "source": []
    }
  ],
  "metadata": {
    "accelerator": "GPU",
    "colab": {
      "gpuType": "T4",
      "provenance": []
    },
    "kernelspec": {
      "display_name": "Python 3",
      "name": "python3"
    },
    "language_info": {
      "codemirror_mode": {
        "name": "ipython",
        "version": 3
      },
      "file_extension": ".py",
      "mimetype": "text/x-python",
      "name": "python",
      "nbconvert_exporter": "python",
      "pygments_lexer": "ipython3",
      "version": "3.11.4"
    }
  },
  "nbformat": 4,
  "nbformat_minor": 0
}
